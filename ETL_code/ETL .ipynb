{
 "cells": [
  {
   "cell_type": "code",
   "execution_count": 1,
   "id": "fc6aab56",
   "metadata": {},
   "outputs": [],
   "source": [
    "#import dependencies\n",
    "import json \n",
    "import pandas as pd\n",
    "import numpy as np\n",
    "import re\n",
    "from sqlalchemy import create_engine\n",
    "#from config import db_password\n",
    "import time"
   ]
  },
  {
   "cell_type": "markdown",
   "id": "25537d62",
   "metadata": {},
   "source": [
    "### Links table cleaning"
   ]
  },
  {
   "cell_type": "code",
   "execution_count": 2,
   "id": "b9806269",
   "metadata": {},
   "outputs": [
    {
     "name": "stdout",
     "output_type": "stream",
     "text": [
      "number of records: 62423\n",
      "   movieId  imdbId   tmdbId\n",
      "0        1  114709    862.0\n",
      "1        2  113497   8844.0\n",
      "2        3  113228  15602.0\n",
      "3        4  114885  31357.0\n",
      "4        5  113041  11862.0\n"
     ]
    }
   ],
   "source": [
    "#load file\n",
    "raw_links_df = pd.read_csv(\"../raw_data_tables/raw_links.csv\")\n",
    "print(f'number of records: {len(raw_links_df)}')\n",
    "print(raw_links_df.head())"
   ]
  },
  {
   "cell_type": "code",
   "execution_count": 3,
   "id": "45e1bfaf",
   "metadata": {},
   "outputs": [
    {
     "data": {
      "text/plain": [
       "[['movieId', 0], ['imdbId', 0], ['tmdbId', 107]]"
      ]
     },
     "execution_count": 3,
     "metadata": {},
     "output_type": "execute_result"
    }
   ],
   "source": [
    "#check for null values \n",
    "[[column,raw_links_df[column].isnull().sum()] for column in raw_links_df.columns]"
   ]
  },
  {
   "cell_type": "code",
   "execution_count": 4,
   "id": "431d222a",
   "metadata": {},
   "outputs": [],
   "source": [
    "#null tmbdID's are acceptable in the data"
   ]
  },
  {
   "cell_type": "code",
   "execution_count": 5,
   "id": "c22b38a5",
   "metadata": {},
   "outputs": [
    {
     "data": {
      "text/plain": [
       "movieId      int64\n",
       "imdbId       int64\n",
       "tmdbId     float64\n",
       "dtype: object"
      ]
     },
     "execution_count": 5,
     "metadata": {},
     "output_type": "execute_result"
    }
   ],
   "source": [
    "#check data types\n",
    "raw_links_df.dtypes"
   ]
  },
  {
   "cell_type": "code",
   "execution_count": 6,
   "id": "19b1a3be",
   "metadata": {},
   "outputs": [
    {
     "data": {
      "text/plain": [
       "movieId    int64\n",
       "imdbId     int64\n",
       "tmdbId     int32\n",
       "dtype: object"
      ]
     },
     "execution_count": 6,
     "metadata": {},
     "output_type": "execute_result"
    }
   ],
   "source": [
    "#convert tmdbId to int type and fill NaN's with 0\n",
    "raw_links_df['tmdbId'] = raw_links_df['tmdbId'].fillna(0).astype(int)\n",
    "raw_links_df.dtypes"
   ]
  },
  {
   "cell_type": "code",
   "execution_count": 7,
   "id": "def09819",
   "metadata": {},
   "outputs": [
    {
     "name": "stdout",
     "output_type": "stream",
     "text": [
      "number of records: 62423\n",
      "   movieId  imdbId  tmdbId\n",
      "0        1  114709     862\n",
      "1        2  113497    8844\n",
      "2        3  113228   15602\n",
      "3        4  114885   31357\n",
      "4        5  113041   11862\n",
      "movieId    int64\n",
      "imdbId     int64\n",
      "tmdbId     int32\n",
      "dtype: object\n"
     ]
    }
   ],
   "source": [
    "#create clean df and confirm \n",
    "clean_links_df = raw_links_df\n",
    "print(f'number of records: {len(clean_links_df)}')\n",
    "print(clean_links_df.head())\n",
    "print(clean_links_df.dtypes)"
   ]
  },
  {
   "cell_type": "markdown",
   "id": "17f2af06",
   "metadata": {},
   "source": [
    "### Tags table cleaning"
   ]
  },
  {
   "cell_type": "code",
   "execution_count": 8,
   "id": "2ff71e4e",
   "metadata": {},
   "outputs": [
    {
     "name": "stdout",
     "output_type": "stream",
     "text": [
      "number of records: 1093360\n",
      "   userId  movieId               tag   timestamp\n",
      "0       3      260           classic  1439472355\n",
      "1       3      260            sci-fi  1439472256\n",
      "2       4     1732       dark comedy  1573943598\n",
      "3       4     1732    great dialogue  1573943604\n",
      "4       4     7569  so bad it's good  1573943455\n"
     ]
    }
   ],
   "source": [
    "#load file\n",
    "raw_tags_df = pd.read_csv(\"../raw_data_tables/raw_tags.csv\")\n",
    "print(f'number of records: {len(raw_tags_df)}')\n",
    "print(raw_tags_df.head())"
   ]
  },
  {
   "cell_type": "code",
   "execution_count": 9,
   "id": "880d7966",
   "metadata": {},
   "outputs": [
    {
     "data": {
      "text/plain": [
       "[['userId', 0], ['movieId', 0], ['tag', 16], ['timestamp', 0]]"
      ]
     },
     "execution_count": 9,
     "metadata": {},
     "output_type": "execute_result"
    }
   ],
   "source": [
    "#check for null values \n",
    "[[column,raw_tags_df[column].isnull().sum()] for column in raw_tags_df.columns]"
   ]
  },
  {
   "cell_type": "code",
   "execution_count": 10,
   "id": "4f71f894",
   "metadata": {},
   "outputs": [],
   "source": [
    "#null tags are acceptable in the data"
   ]
  },
  {
   "cell_type": "code",
   "execution_count": 11,
   "id": "7119fe93",
   "metadata": {},
   "outputs": [
    {
     "data": {
      "text/html": [
       "<div>\n",
       "<style scoped>\n",
       "    .dataframe tbody tr th:only-of-type {\n",
       "        vertical-align: middle;\n",
       "    }\n",
       "\n",
       "    .dataframe tbody tr th {\n",
       "        vertical-align: top;\n",
       "    }\n",
       "\n",
       "    .dataframe thead th {\n",
       "        text-align: right;\n",
       "    }\n",
       "</style>\n",
       "<table border=\"1\" class=\"dataframe\">\n",
       "  <thead>\n",
       "    <tr style=\"text-align: right;\">\n",
       "      <th></th>\n",
       "      <th>userId</th>\n",
       "      <th>movieId</th>\n",
       "      <th>tag</th>\n",
       "      <th>timestamp</th>\n",
       "    </tr>\n",
       "  </thead>\n",
       "  <tbody>\n",
       "    <tr>\n",
       "      <th>0</th>\n",
       "      <td>3</td>\n",
       "      <td>260</td>\n",
       "      <td>classic</td>\n",
       "      <td>2015-08-13 13:25:55</td>\n",
       "    </tr>\n",
       "    <tr>\n",
       "      <th>1</th>\n",
       "      <td>3</td>\n",
       "      <td>260</td>\n",
       "      <td>sci-fi</td>\n",
       "      <td>2015-08-13 13:24:16</td>\n",
       "    </tr>\n",
       "    <tr>\n",
       "      <th>2</th>\n",
       "      <td>4</td>\n",
       "      <td>1732</td>\n",
       "      <td>dark comedy</td>\n",
       "      <td>2019-11-16 22:33:18</td>\n",
       "    </tr>\n",
       "    <tr>\n",
       "      <th>3</th>\n",
       "      <td>4</td>\n",
       "      <td>1732</td>\n",
       "      <td>great dialogue</td>\n",
       "      <td>2019-11-16 22:33:24</td>\n",
       "    </tr>\n",
       "    <tr>\n",
       "      <th>4</th>\n",
       "      <td>4</td>\n",
       "      <td>7569</td>\n",
       "      <td>so bad it's good</td>\n",
       "      <td>2019-11-16 22:30:55</td>\n",
       "    </tr>\n",
       "  </tbody>\n",
       "</table>\n",
       "</div>"
      ],
      "text/plain": [
       "   userId  movieId               tag           timestamp\n",
       "0       3      260           classic 2015-08-13 13:25:55\n",
       "1       3      260            sci-fi 2015-08-13 13:24:16\n",
       "2       4     1732       dark comedy 2019-11-16 22:33:18\n",
       "3       4     1732    great dialogue 2019-11-16 22:33:24\n",
       "4       4     7569  so bad it's good 2019-11-16 22:30:55"
      ]
     },
     "execution_count": 11,
     "metadata": {},
     "output_type": "execute_result"
    }
   ],
   "source": [
    "#convert Unix timestap to standard format\n",
    "raw_tags_df['timestamp'] = pd.to_datetime(raw_tags_df['timestamp'], unit='s')\n",
    "raw_tags_df.head()"
   ]
  },
  {
   "cell_type": "code",
   "execution_count": 12,
   "id": "d38996c2",
   "metadata": {},
   "outputs": [
    {
     "data": {
      "text/plain": [
       "userId                int64\n",
       "movieId               int64\n",
       "tag                  object\n",
       "timestamp    datetime64[ns]\n",
       "dtype: object"
      ]
     },
     "execution_count": 12,
     "metadata": {},
     "output_type": "execute_result"
    }
   ],
   "source": [
    "#check data types\n",
    "raw_tags_df.dtypes"
   ]
  },
  {
   "cell_type": "code",
   "execution_count": 13,
   "id": "de958c17",
   "metadata": {},
   "outputs": [
    {
     "name": "stdout",
     "output_type": "stream",
     "text": [
      "number of records: 1093360\n",
      "   userId  movieId               tag           timestamp\n",
      "0       3      260           classic 2015-08-13 13:25:55\n",
      "1       3      260            sci-fi 2015-08-13 13:24:16\n",
      "2       4     1732       dark comedy 2019-11-16 22:33:18\n",
      "3       4     1732    great dialogue 2019-11-16 22:33:24\n",
      "4       4     7569  so bad it's good 2019-11-16 22:30:55\n",
      "userId                int64\n",
      "movieId               int64\n",
      "tag                  object\n",
      "timestamp    datetime64[ns]\n",
      "dtype: object\n"
     ]
    }
   ],
   "source": [
    "#create clean df and confirm \n",
    "clean_tags_df = raw_tags_df\n",
    "print(f'number of records: {len(clean_tags_df)}')\n",
    "print(clean_tags_df.head())\n",
    "print(clean_tags_df.dtypes)"
   ]
  },
  {
   "cell_type": "markdown",
   "id": "7a469f65",
   "metadata": {},
   "source": [
    "### Movies table cleaning"
   ]
  },
  {
   "cell_type": "code",
   "execution_count": 14,
   "id": "a7c93076",
   "metadata": {},
   "outputs": [
    {
     "name": "stdout",
     "output_type": "stream",
     "text": [
      "number of records: 62423\n",
      "   movieId                               title  \\\n",
      "0        1                    Toy Story (1995)   \n",
      "1        2                      Jumanji (1995)   \n",
      "2        3             Grumpier Old Men (1995)   \n",
      "3        4            Waiting to Exhale (1995)   \n",
      "4        5  Father of the Bride Part II (1995)   \n",
      "\n",
      "                                        genres  \n",
      "0  Adventure|Animation|Children|Comedy|Fantasy  \n",
      "1                   Adventure|Children|Fantasy  \n",
      "2                               Comedy|Romance  \n",
      "3                         Comedy|Drama|Romance  \n",
      "4                                       Comedy  \n"
     ]
    }
   ],
   "source": [
    "#load file\n",
    "raw_movies_df = pd.read_csv(\"../raw_data_tables/raw_movies.csv\")\n",
    "print(f'number of records: {len(raw_movies_df)}')\n",
    "print(raw_movies_df.head())"
   ]
  },
  {
   "cell_type": "code",
   "execution_count": 15,
   "id": "8bbe9078",
   "metadata": {},
   "outputs": [
    {
     "data": {
      "text/plain": [
       "[['movieId', 0], ['title', 0], ['genres', 0]]"
      ]
     },
     "execution_count": 15,
     "metadata": {},
     "output_type": "execute_result"
    }
   ],
   "source": [
    "#check for null values \n",
    "[[column,raw_movies_df[column].isnull().sum()] for column in raw_movies_df.columns]"
   ]
  },
  {
   "cell_type": "code",
   "execution_count": 16,
   "id": "cbdd662d",
   "metadata": {},
   "outputs": [
    {
     "name": "stderr",
     "output_type": "stream",
     "text": [
      "C:\\Users\\Byron\\anaconda3\\envs\\PythonData\\lib\\site-packages\\ipykernel_launcher.py:3: FutureWarning: The default value of regex will change from True to False in a future version.\n",
      "  This is separate from the ipykernel package so we can avoid doing imports until\n",
      "C:\\Users\\Byron\\anaconda3\\envs\\PythonData\\lib\\site-packages\\ipykernel_launcher.py:4: FutureWarning: The default value of regex will change from True to False in a future version. In addition, single character regular expressions will*not* be treated as literal strings when regex=True.\n",
      "  after removing the cwd from sys.path.\n",
      "C:\\Users\\Byron\\anaconda3\\envs\\PythonData\\lib\\site-packages\\ipykernel_launcher.py:5: FutureWarning: The default value of regex will change from True to False in a future version. In addition, single character regular expressions will*not* be treated as literal strings when regex=True.\n",
      "  \"\"\"\n"
     ]
    },
    {
     "data": {
      "text/html": [
       "<div>\n",
       "<style scoped>\n",
       "    .dataframe tbody tr th:only-of-type {\n",
       "        vertical-align: middle;\n",
       "    }\n",
       "\n",
       "    .dataframe tbody tr th {\n",
       "        vertical-align: top;\n",
       "    }\n",
       "\n",
       "    .dataframe thead th {\n",
       "        text-align: right;\n",
       "    }\n",
       "</style>\n",
       "<table border=\"1\" class=\"dataframe\">\n",
       "  <thead>\n",
       "    <tr style=\"text-align: right;\">\n",
       "      <th></th>\n",
       "      <th>movieId</th>\n",
       "      <th>title</th>\n",
       "      <th>genres</th>\n",
       "      <th>year</th>\n",
       "    </tr>\n",
       "  </thead>\n",
       "  <tbody>\n",
       "    <tr>\n",
       "      <th>0</th>\n",
       "      <td>1</td>\n",
       "      <td>Toy Story</td>\n",
       "      <td>Adventure|Animation|Children|Comedy|Fantasy</td>\n",
       "      <td>1995</td>\n",
       "    </tr>\n",
       "    <tr>\n",
       "      <th>1</th>\n",
       "      <td>2</td>\n",
       "      <td>Jumanji</td>\n",
       "      <td>Adventure|Children|Fantasy</td>\n",
       "      <td>1995</td>\n",
       "    </tr>\n",
       "    <tr>\n",
       "      <th>2</th>\n",
       "      <td>3</td>\n",
       "      <td>Grumpier Old Men</td>\n",
       "      <td>Comedy|Romance</td>\n",
       "      <td>1995</td>\n",
       "    </tr>\n",
       "    <tr>\n",
       "      <th>3</th>\n",
       "      <td>4</td>\n",
       "      <td>Waiting to Exhale</td>\n",
       "      <td>Comedy|Drama|Romance</td>\n",
       "      <td>1995</td>\n",
       "    </tr>\n",
       "    <tr>\n",
       "      <th>4</th>\n",
       "      <td>5</td>\n",
       "      <td>Father of the Bride Part II</td>\n",
       "      <td>Comedy</td>\n",
       "      <td>1995</td>\n",
       "    </tr>\n",
       "  </tbody>\n",
       "</table>\n",
       "</div>"
      ],
      "text/plain": [
       "   movieId                         title  \\\n",
       "0        1                    Toy Story    \n",
       "1        2                      Jumanji    \n",
       "2        3             Grumpier Old Men    \n",
       "3        4            Waiting to Exhale    \n",
       "4        5  Father of the Bride Part II    \n",
       "\n",
       "                                        genres  year  \n",
       "0  Adventure|Animation|Children|Comedy|Fantasy  1995  \n",
       "1                   Adventure|Children|Fantasy  1995  \n",
       "2                               Comedy|Romance  1995  \n",
       "3                         Comedy|Drama|Romance  1995  \n",
       "4                                       Comedy  1995  "
      ]
     },
     "execution_count": 16,
     "metadata": {},
     "output_type": "execute_result"
    }
   ],
   "source": [
    "#regex to split year from title into separate column and format stings in columns\n",
    "raw_movies_df['year'] = raw_movies_df['title'].str.extract(r'(\\(\\d{4}\\))')\n",
    "raw_movies_df['title'] = raw_movies_df['title'].str.replace(r'(\\(\\d{4}\\))',\"\")\n",
    "raw_movies_df['year'] = raw_movies_df['year'].str.replace('(',\"\")\n",
    "raw_movies_df['year'] = raw_movies_df['year'].str.replace(')',\"\")\n",
    "raw_movies_df.head()"
   ]
  },
  {
   "cell_type": "code",
   "execution_count": 17,
   "id": "b0ed7c6f",
   "metadata": {},
   "outputs": [
    {
     "data": {
      "text/plain": [
       "[['movieId', 0], ['title', 0], ['genres', 0], ['year', 410]]"
      ]
     },
     "execution_count": 17,
     "metadata": {},
     "output_type": "execute_result"
    }
   ],
   "source": [
    "#recheck for null values \n",
    "[[column,raw_movies_df[column].isnull().sum()] for column in raw_movies_df.columns]"
   ]
  },
  {
   "cell_type": "code",
   "execution_count": 18,
   "id": "00d8e540",
   "metadata": {},
   "outputs": [
    {
     "data": {
      "text/plain": [
       "movieId     int64\n",
       "title      object\n",
       "genres     object\n",
       "year       object\n",
       "dtype: object"
      ]
     },
     "execution_count": 18,
     "metadata": {},
     "output_type": "execute_result"
    }
   ],
   "source": [
    "#check data types\n",
    "raw_movies_df.dtypes"
   ]
  },
  {
   "cell_type": "code",
   "execution_count": 19,
   "id": "6e62f132",
   "metadata": {},
   "outputs": [],
   "source": [
    "#convert year to int type and fill NaN's with 0\n",
    "raw_movies_df['year'] = raw_movies_df['year'].fillna(0).astype(int)"
   ]
  },
  {
   "cell_type": "code",
   "execution_count": 20,
   "id": "ecbaab2d",
   "metadata": {},
   "outputs": [
    {
     "data": {
      "text/plain": [
       "movieId     int64\n",
       "title      object\n",
       "genres     object\n",
       "year        int32\n",
       "dtype: object"
      ]
     },
     "execution_count": 20,
     "metadata": {},
     "output_type": "execute_result"
    }
   ],
   "source": [
    "#check data types\n",
    "raw_movies_df.dtypes"
   ]
  },
  {
   "cell_type": "code",
   "execution_count": 21,
   "id": "0794505b",
   "metadata": {},
   "outputs": [
    {
     "name": "stdout",
     "output_type": "stream",
     "text": [
      "number of records: 62423\n",
      "   movieId                         title  \\\n",
      "0        1                    Toy Story    \n",
      "1        2                      Jumanji    \n",
      "2        3             Grumpier Old Men    \n",
      "3        4            Waiting to Exhale    \n",
      "4        5  Father of the Bride Part II    \n",
      "\n",
      "                                        genres  year  \n",
      "0  Adventure|Animation|Children|Comedy|Fantasy  1995  \n",
      "1                   Adventure|Children|Fantasy  1995  \n",
      "2                               Comedy|Romance  1995  \n",
      "3                         Comedy|Drama|Romance  1995  \n",
      "4                                       Comedy  1995  \n",
      "movieId     int64\n",
      "title      object\n",
      "genres     object\n",
      "year        int32\n",
      "dtype: object\n"
     ]
    }
   ],
   "source": [
    "#create clean df and confirm \n",
    "clean_movies_df = raw_movies_df\n",
    "print(f'number of records: {len(clean_movies_df)}')\n",
    "print(clean_movies_df.head())\n",
    "print(clean_movies_df.dtypes)"
   ]
  },
  {
   "cell_type": "markdown",
   "id": "52ab25a4",
   "metadata": {},
   "source": [
    "### Ratings table cleaning"
   ]
  },
  {
   "cell_type": "code",
   "execution_count": 22,
   "id": "7afa1bad",
   "metadata": {},
   "outputs": [
    {
     "name": "stdout",
     "output_type": "stream",
     "text": [
      "number of records: 25000095\n",
      "   userId  movieId  rating   timestamp\n",
      "0       1      296     5.0  1147880044\n",
      "1       1      306     3.5  1147868817\n",
      "2       1      307     5.0  1147868828\n",
      "3       1      665     5.0  1147878820\n",
      "4       1      899     3.5  1147868510\n"
     ]
    }
   ],
   "source": [
    "#load file\n",
    "raw_ratings_df = pd.read_csv(\"../raw_data_tables/raw_ratings.csv\")\n",
    "print(f'number of records: {len(raw_ratings_df)}')\n",
    "print(raw_ratings_df.head())"
   ]
  },
  {
   "cell_type": "code",
   "execution_count": 23,
   "id": "68a870d8",
   "metadata": {},
   "outputs": [
    {
     "data": {
      "text/plain": [
       "[['userId', 0], ['movieId', 0], ['rating', 0], ['timestamp', 0]]"
      ]
     },
     "execution_count": 23,
     "metadata": {},
     "output_type": "execute_result"
    }
   ],
   "source": [
    "#check for null values \n",
    "[[column,raw_ratings_df[column].isnull().sum()] for column in raw_ratings_df.columns]"
   ]
  },
  {
   "cell_type": "code",
   "execution_count": 24,
   "id": "c8b71337",
   "metadata": {},
   "outputs": [
    {
     "data": {
      "text/html": [
       "<div>\n",
       "<style scoped>\n",
       "    .dataframe tbody tr th:only-of-type {\n",
       "        vertical-align: middle;\n",
       "    }\n",
       "\n",
       "    .dataframe tbody tr th {\n",
       "        vertical-align: top;\n",
       "    }\n",
       "\n",
       "    .dataframe thead th {\n",
       "        text-align: right;\n",
       "    }\n",
       "</style>\n",
       "<table border=\"1\" class=\"dataframe\">\n",
       "  <thead>\n",
       "    <tr style=\"text-align: right;\">\n",
       "      <th></th>\n",
       "      <th>userId</th>\n",
       "      <th>movieId</th>\n",
       "      <th>rating</th>\n",
       "      <th>timestamp</th>\n",
       "    </tr>\n",
       "  </thead>\n",
       "  <tbody>\n",
       "    <tr>\n",
       "      <th>0</th>\n",
       "      <td>1</td>\n",
       "      <td>296</td>\n",
       "      <td>5.0</td>\n",
       "      <td>2006-05-17 15:34:04</td>\n",
       "    </tr>\n",
       "    <tr>\n",
       "      <th>1</th>\n",
       "      <td>1</td>\n",
       "      <td>306</td>\n",
       "      <td>3.5</td>\n",
       "      <td>2006-05-17 12:26:57</td>\n",
       "    </tr>\n",
       "    <tr>\n",
       "      <th>2</th>\n",
       "      <td>1</td>\n",
       "      <td>307</td>\n",
       "      <td>5.0</td>\n",
       "      <td>2006-05-17 12:27:08</td>\n",
       "    </tr>\n",
       "    <tr>\n",
       "      <th>3</th>\n",
       "      <td>1</td>\n",
       "      <td>665</td>\n",
       "      <td>5.0</td>\n",
       "      <td>2006-05-17 15:13:40</td>\n",
       "    </tr>\n",
       "    <tr>\n",
       "      <th>4</th>\n",
       "      <td>1</td>\n",
       "      <td>899</td>\n",
       "      <td>3.5</td>\n",
       "      <td>2006-05-17 12:21:50</td>\n",
       "    </tr>\n",
       "  </tbody>\n",
       "</table>\n",
       "</div>"
      ],
      "text/plain": [
       "   userId  movieId  rating           timestamp\n",
       "0       1      296     5.0 2006-05-17 15:34:04\n",
       "1       1      306     3.5 2006-05-17 12:26:57\n",
       "2       1      307     5.0 2006-05-17 12:27:08\n",
       "3       1      665     5.0 2006-05-17 15:13:40\n",
       "4       1      899     3.5 2006-05-17 12:21:50"
      ]
     },
     "execution_count": 24,
     "metadata": {},
     "output_type": "execute_result"
    }
   ],
   "source": [
    "#convert Unix timestap to standard format\n",
    "raw_ratings_df['timestamp'] = pd.to_datetime(raw_ratings_df['timestamp'], unit='s')\n",
    "raw_ratings_df.head()"
   ]
  },
  {
   "cell_type": "code",
   "execution_count": 25,
   "id": "ad3cc739",
   "metadata": {},
   "outputs": [
    {
     "data": {
      "text/plain": [
       "userId                int64\n",
       "movieId               int64\n",
       "rating              float64\n",
       "timestamp    datetime64[ns]\n",
       "dtype: object"
      ]
     },
     "execution_count": 25,
     "metadata": {},
     "output_type": "execute_result"
    }
   ],
   "source": [
    "#check data types\n",
    "raw_ratings_df.dtypes"
   ]
  },
  {
   "cell_type": "code",
   "execution_count": 26,
   "id": "38144cfa",
   "metadata": {},
   "outputs": [
    {
     "name": "stdout",
     "output_type": "stream",
     "text": [
      "number of records: 25000095\n",
      "   userId  movieId  rating           timestamp\n",
      "0       1      296     5.0 2006-05-17 15:34:04\n",
      "1       1      306     3.5 2006-05-17 12:26:57\n",
      "2       1      307     5.0 2006-05-17 12:27:08\n",
      "3       1      665     5.0 2006-05-17 15:13:40\n",
      "4       1      899     3.5 2006-05-17 12:21:50\n",
      "userId                int64\n",
      "movieId               int64\n",
      "rating              float64\n",
      "timestamp    datetime64[ns]\n",
      "dtype: object\n"
     ]
    }
   ],
   "source": [
    "#create clean df and confirm \n",
    "clean_ratings_df = raw_ratings_df\n",
    "print(f'number of records: {len(clean_ratings_df)}')\n",
    "print(clean_ratings_df.head())\n",
    "print(clean_ratings_df.dtypes)"
   ]
  },
  {
   "cell_type": "markdown",
   "id": "fa97bb25",
   "metadata": {},
   "source": [
    "### Genome Scores table cleaning"
   ]
  },
  {
   "cell_type": "code",
   "execution_count": 27,
   "id": "2de7e600",
   "metadata": {},
   "outputs": [
    {
     "name": "stdout",
     "output_type": "stream",
     "text": [
      "number of records: 15584448\n",
      "   movieId  tagId  relevance\n",
      "0        1      1    0.02875\n",
      "1        1      2    0.02375\n",
      "2        1      3    0.06250\n",
      "3        1      4    0.07575\n",
      "4        1      5    0.14075\n"
     ]
    }
   ],
   "source": [
    "#load file\n",
    "raw_genome_scores_df = pd.read_csv(\"../raw_data_tables/raw_genome_scores.csv\")\n",
    "print(f'number of records: {len(raw_genome_scores_df)}')\n",
    "print(raw_genome_scores_df.head())"
   ]
  },
  {
   "cell_type": "code",
   "execution_count": 28,
   "id": "f28937c5",
   "metadata": {},
   "outputs": [
    {
     "data": {
      "text/plain": [
       "[['movieId', 0], ['tagId', 0], ['relevance', 0]]"
      ]
     },
     "execution_count": 28,
     "metadata": {},
     "output_type": "execute_result"
    }
   ],
   "source": [
    "#check for null values \n",
    "[[column,raw_genome_scores_df[column].isnull().sum()] for column in raw_genome_scores_df.columns]"
   ]
  },
  {
   "cell_type": "code",
   "execution_count": 29,
   "id": "9b650de4",
   "metadata": {},
   "outputs": [
    {
     "data": {
      "text/plain": [
       "movieId        int64\n",
       "tagId          int64\n",
       "relevance    float64\n",
       "dtype: object"
      ]
     },
     "execution_count": 29,
     "metadata": {},
     "output_type": "execute_result"
    }
   ],
   "source": [
    "#check data types\n",
    "raw_genome_scores_df.dtypes"
   ]
  },
  {
   "cell_type": "code",
   "execution_count": 30,
   "id": "00c69e60",
   "metadata": {},
   "outputs": [
    {
     "name": "stdout",
     "output_type": "stream",
     "text": [
      "number of records: 15584448\n",
      "   movieId  tagId  relevance\n",
      "0        1      1    0.02875\n",
      "1        1      2    0.02375\n",
      "2        1      3    0.06250\n",
      "3        1      4    0.07575\n",
      "4        1      5    0.14075\n",
      "movieId        int64\n",
      "tagId          int64\n",
      "relevance    float64\n",
      "dtype: object\n"
     ]
    }
   ],
   "source": [
    "#create clean df and confirm \n",
    "clean_genome_scores_df = raw_genome_scores_df\n",
    "print(f'number of records: {len(clean_genome_scores_df)}')\n",
    "print(clean_genome_scores_df.head())\n",
    "print(clean_genome_scores_df.dtypes)"
   ]
  },
  {
   "cell_type": "markdown",
   "id": "cadf351a",
   "metadata": {},
   "source": [
    "### Genome Tags table cleaning"
   ]
  },
  {
   "cell_type": "code",
   "execution_count": 31,
   "id": "f2f04fe0",
   "metadata": {},
   "outputs": [
    {
     "name": "stdout",
     "output_type": "stream",
     "text": [
      "number of records: 1128\n",
      "   tagId           tag\n",
      "0      1           007\n",
      "1      2  007 (series)\n",
      "2      3  18th century\n",
      "3      4         1920s\n",
      "4      5         1930s\n"
     ]
    }
   ],
   "source": [
    "#load file\n",
    "raw_genome_tags_df = pd.read_csv(\"../raw_data_tables/raw_genome_tags.csv\")\n",
    "print(f'number of records: {len(raw_genome_tags_df)}')\n",
    "print(raw_genome_tags_df.head())"
   ]
  },
  {
   "cell_type": "code",
   "execution_count": 32,
   "id": "1ed1517b",
   "metadata": {},
   "outputs": [
    {
     "data": {
      "text/plain": [
       "[['tagId', 0], ['tag', 0]]"
      ]
     },
     "execution_count": 32,
     "metadata": {},
     "output_type": "execute_result"
    }
   ],
   "source": [
    "#check for null values \n",
    "[[column,raw_genome_tags_df[column].isnull().sum()] for column in raw_genome_tags_df.columns]"
   ]
  },
  {
   "cell_type": "code",
   "execution_count": 33,
   "id": "9e4e3edc",
   "metadata": {},
   "outputs": [
    {
     "data": {
      "text/plain": [
       "tagId     int64\n",
       "tag      object\n",
       "dtype: object"
      ]
     },
     "execution_count": 33,
     "metadata": {},
     "output_type": "execute_result"
    }
   ],
   "source": [
    "#check data types\n",
    "raw_genome_tags_df.dtypes"
   ]
  },
  {
   "cell_type": "code",
   "execution_count": 34,
   "id": "535db9e4",
   "metadata": {},
   "outputs": [
    {
     "name": "stdout",
     "output_type": "stream",
     "text": [
      "number of records: 1128\n",
      "   tagId           tag\n",
      "0      1           007\n",
      "1      2  007 (series)\n",
      "2      3  18th century\n",
      "3      4         1920s\n",
      "4      5         1930s\n",
      "tagId     int64\n",
      "tag      object\n",
      "dtype: object\n"
     ]
    }
   ],
   "source": [
    "#create clean df and confirm \n",
    "clean_genome_tags_df = raw_genome_tags_df\n",
    "print(f'number of records: {len(clean_genome_tags_df)}')\n",
    "print(clean_genome_tags_df.head())\n",
    "print(clean_genome_tags_df.dtypes)"
   ]
  },
  {
   "cell_type": "markdown",
   "id": "62f8db18",
   "metadata": {},
   "source": [
    "### Load cleaned tables to database"
   ]
  },
  {
   "cell_type": "code",
   "execution_count": null,
   "id": "a2f6618e",
   "metadata": {},
   "outputs": [],
   "source": []
  }
 ],
 "metadata": {
  "kernelspec": {
   "display_name": "PythonData",
   "language": "python",
   "name": "pythondata"
  },
  "language_info": {
   "codemirror_mode": {
    "name": "ipython",
    "version": 3
   },
   "file_extension": ".py",
   "mimetype": "text/x-python",
   "name": "python",
   "nbconvert_exporter": "python",
   "pygments_lexer": "ipython3",
   "version": "3.7.10"
  }
 },
 "nbformat": 4,
 "nbformat_minor": 5
}
