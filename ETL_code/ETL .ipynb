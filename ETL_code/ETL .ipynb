{
 "cells": [
  {
   "cell_type": "code",
   "execution_count": 2,
   "id": "91918503",
   "metadata": {},
   "outputs": [],
   "source": [
    "#import dependencies\n",
    "import json \n",
    "import pandas as pd\n",
    "import numpy as np\n",
    "import re\n",
    "from sqlalchemy import create_engine\n",
    "#from config import db_password\n",
    "import time"
   ]
  },
  {
   "cell_type": "markdown",
   "id": "46fbae19",
   "metadata": {},
   "source": [
    "### Links table"
   ]
  },
  {
   "cell_type": "code",
   "execution_count": 11,
   "id": "eb433acf",
   "metadata": {},
   "outputs": [
    {
     "name": "stdout",
     "output_type": "stream",
     "text": [
      "number of records: 62423\n",
      "   movieId  imdbId   tmdbId\n",
      "0        1  114709    862.0\n",
      "1        2  113497   8844.0\n",
      "2        3  113228  15602.0\n",
      "3        4  114885  31357.0\n",
      "4        5  113041  11862.0\n"
     ]
    }
   ],
   "source": [
    "#load file\n",
    "raw_links_df = pd.read_csv(\"../raw_data_tables/raw_links.csv\")\n",
    "print(f'number of records: {len(raw_links_df)}')\n",
    "print(raw_links_df.head())"
   ]
  },
  {
   "cell_type": "code",
   "execution_count": null,
   "id": "e1542477",
   "metadata": {},
   "outputs": [],
   "source": []
  },
  {
   "cell_type": "markdown",
   "id": "e58535d0",
   "metadata": {},
   "source": [
    "### Tags table"
   ]
  },
  {
   "cell_type": "code",
   "execution_count": 12,
   "id": "2a4e9492",
   "metadata": {},
   "outputs": [
    {
     "name": "stdout",
     "output_type": "stream",
     "text": [
      "number of records: 1093360\n",
      "   userId  movieId               tag   timestamp\n",
      "0       3      260           classic  1439472355\n",
      "1       3      260            sci-fi  1439472256\n",
      "2       4     1732       dark comedy  1573943598\n",
      "3       4     1732    great dialogue  1573943604\n",
      "4       4     7569  so bad it's good  1573943455\n"
     ]
    }
   ],
   "source": [
    "#load file\n",
    "raw_tags_df = pd.read_csv(\"../raw_data_tables/raw_tags.csv\")\n",
    "print(f'number of records: {len(raw_tags_df)}')\n",
    "print(raw_tags_df.head())"
   ]
  },
  {
   "cell_type": "code",
   "execution_count": null,
   "id": "1a171232",
   "metadata": {},
   "outputs": [],
   "source": []
  },
  {
   "cell_type": "markdown",
   "id": "358dd1f5",
   "metadata": {},
   "source": [
    "### Movies table"
   ]
  },
  {
   "cell_type": "code",
   "execution_count": 13,
   "id": "8f06a4e0",
   "metadata": {},
   "outputs": [
    {
     "name": "stdout",
     "output_type": "stream",
     "text": [
      "number of records: 62423\n",
      "   movieId                               title  \\\n",
      "0        1                    Toy Story (1995)   \n",
      "1        2                      Jumanji (1995)   \n",
      "2        3             Grumpier Old Men (1995)   \n",
      "3        4            Waiting to Exhale (1995)   \n",
      "4        5  Father of the Bride Part II (1995)   \n",
      "\n",
      "                                        genres  \n",
      "0  Adventure|Animation|Children|Comedy|Fantasy  \n",
      "1                   Adventure|Children|Fantasy  \n",
      "2                               Comedy|Romance  \n",
      "3                         Comedy|Drama|Romance  \n",
      "4                                       Comedy  \n"
     ]
    }
   ],
   "source": [
    "#load file\n",
    "raw_movies_df = pd.read_csv(\"../raw_data_tables/raw_movies.csv\")\n",
    "print(f'number of records: {len(raw_movies_df)}')\n",
    "print(raw_movies_df.head())"
   ]
  },
  {
   "cell_type": "code",
   "execution_count": null,
   "id": "8d8d9cd7",
   "metadata": {},
   "outputs": [],
   "source": []
  },
  {
   "cell_type": "markdown",
   "id": "906118a5",
   "metadata": {},
   "source": [
    "### Ratings table"
   ]
  },
  {
   "cell_type": "code",
   "execution_count": 14,
   "id": "38d7455d",
   "metadata": {},
   "outputs": [
    {
     "name": "stdout",
     "output_type": "stream",
     "text": [
      "number of records: 25000095\n",
      "   userId  movieId  rating   timestamp\n",
      "0       1      296     5.0  1147880044\n",
      "1       1      306     3.5  1147868817\n",
      "2       1      307     5.0  1147868828\n",
      "3       1      665     5.0  1147878820\n",
      "4       1      899     3.5  1147868510\n"
     ]
    }
   ],
   "source": [
    "#load file\n",
    "raw_ratings_df = pd.read_csv(\"../raw_data_tables/raw_ratings.csv\")\n",
    "print(f'number of records: {len(raw_ratings_df)}')\n",
    "print(raw_ratings_df.head())"
   ]
  }
 ],
 "metadata": {
  "kernelspec": {
   "display_name": "PythonData",
   "language": "python",
   "name": "pythondata"
  },
  "language_info": {
   "codemirror_mode": {
    "name": "ipython",
    "version": 3
   },
   "file_extension": ".py",
   "mimetype": "text/x-python",
   "name": "python",
   "nbconvert_exporter": "python",
   "pygments_lexer": "ipython3",
   "version": "3.7.10"
  }
 },
 "nbformat": 4,
 "nbformat_minor": 5
}
