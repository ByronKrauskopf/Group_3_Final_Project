{
 "cells": [
  {
   "cell_type": "code",
   "execution_count": 1,
   "metadata": {},
   "outputs": [],
   "source": [
    "'''\n",
    ":Instructions:\n",
    "Web scrapes the image url for movie titles found in the database.\n",
    "\n",
    "\n",
    ":Dependencies:\n",
    "Python 3.4\n",
    "splinter\n",
    "bs4\n",
    "webdriver_manager\n",
    "pandas\n",
    "\n",
    "'''"
   ]
  },
  {
   "cell_type": "code",
   "execution_count": 2,
   "metadata": {},
   "outputs": [],
   "source": [
    "# Dependencies\n",
    "from splinter import Browser\n",
    "from bs4 import BeautifulSoup as soup\n",
    "import pandas as pd\n",
    "from webdriver_manager.chrome import ChromeDriverManager"
   ]
  },
  {
   "cell_type": "code",
   "execution_count": 3,
   "metadata": {},
   "outputs": [
    {
     "name": "stderr",
     "output_type": "stream",
     "text": [
      "\n",
      "\n",
      "====== WebDriver manager ======\n",
      "Could not get version for google-chrome with the any command: reg query \"HKEY_CURRENT_USER\\Software\\Google\\Chrome\\BLBeacon\" /v version\n",
      "Current google-chrome version is UNKNOWN\n",
      "Get LATEST chromedriver version for UNKNOWN google-chrome\n",
      "Driver [C:\\Users\\omar_\\.wdm\\drivers\\chromedriver\\win32\\99.0.4844.51\\chromedriver.exe] found in cache\n"
     ]
    }
   ],
   "source": [
    "# Set execuatable path and initialize splinter\n",
    "executable_path = {'executable_path': ChromeDriverManager().install()}\n",
    "browser = Browser('chrome', **executable_path, headless=False)"
   ]
  },
  {
   "cell_type": "code",
   "execution_count": 4,
   "metadata": {},
   "outputs": [
    {
     "data": {
      "text/plain": [
       "False"
      ]
     },
     "execution_count": 4,
     "metadata": {},
     "output_type": "execute_result"
    }
   ],
   "source": [
    "# IMDB webpage constructor THIS WOULD NEED TO LOOP THROUGH THE MOVIE IDS\n",
    "#url = \"https://www.imdb.com/title/tt\" + movie_id\n",
    "url = 'https://www.imdb.com/title/tt0332452/'\n",
    "browser.visit(url)\n",
    "\n",
    "#Would need to create a funciton and loop through the movie titles wer are looking at \n",
    "\n",
    "\n",
    "\n",
    "#Delay for loading the page\n",
    "browser.is_element_present_by_css('div.list_text',wait_time=1)"
   ]
  },
  {
   "cell_type": "code",
   "execution_count": 5,
   "metadata": {},
   "outputs": [],
   "source": [
    "# Convert the browser html to a soup object and then quit the browser\n",
    "html = browser.html\n",
    "html_soup = soup(html, 'html.parser')\n",
    "\n",
    "#slide_elem = news_soup.select('div.list_text') #SAhowing nothing, need to fix. thats why nonetype error presists"
   ]
  },
  {
   "cell_type": "code",
   "execution_count": 6,
   "metadata": {},
   "outputs": [],
   "source": [
    "#Get image overlay URL\n",
    "image_overlay = html_soup.find('a', class_='ipc-lockup-overlay ipc-focusable')"
   ]
  },
  {
   "cell_type": "code",
   "execution_count": 7,
   "metadata": {},
   "outputs": [],
   "source": [
    "#Parse the text to get image overlay URL constructor and go to link\n",
    "overlay_url = 'https://www.imdb.com/'+ image_overlay.get('href')\n",
    "browser.visit(overlay_url)\n",
    "\n",
    "#Creating Soup\n",
    "html = browser.html\n",
    "html_soup = soup(html, 'html.parser')"
   ]
  },
  {
   "cell_type": "code",
   "execution_count": 8,
   "metadata": {},
   "outputs": [],
   "source": [
    "#Get image URL\n",
    "image = html_soup.find_all('img')\n",
    "test = html_soup.find('class', class_= 'sc-7c0a9e7c-0 hXPlvk')"
   ]
  },
  {
   "cell_type": "code",
   "execution_count": 9,
   "metadata": {},
   "outputs": [
    {
     "name": "stdout",
     "output_type": "stream",
     "text": [
      "https://m.media-amazon.com/images/M/MV5BMTk5MzU1MDMwMF5BMl5BanBnXkFtZTcwNjczODMzMw@@._V1_.jpg\n",
      "https://m.media-amazon.com/images/M/MV5BMTQwODY4NjkyMV5BMl5BanBnXkFtZTYwOTI3MzE3._V1_.jpg\n"
     ]
    }
   ],
   "source": [
    "#Extract image Src:\n",
    "for n in html_soup('img'):    \n",
    "    if(n.get('src').startswith('https://m.media-amazon.com/images/')):\n",
    "      print(n.get('src')) #Testing, Its constantly the first image, we can have the second image possibly for somehting else. "
   ]
  },
  {
   "cell_type": "code",
   "execution_count": null,
   "metadata": {},
   "outputs": [],
   "source": []
  }
 ],
 "metadata": {
  "kernelspec": {
   "display_name": "PythonData",
   "language": "python",
   "name": "pythondata"
  },
  "language_info": {
   "codemirror_mode": {
    "name": "ipython",
    "version": 3
   },
   "file_extension": ".py",
   "mimetype": "text/x-python",
   "name": "python",
   "nbconvert_exporter": "python",
   "pygments_lexer": "ipython3",
   "version": "3.6.13"
  }
 },
 "nbformat": 4,
 "nbformat_minor": 4
}
